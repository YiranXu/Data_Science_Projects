{
 "cells": [
  {
   "cell_type": "markdown",
   "id": "6d91b2f5",
   "metadata": {},
   "source": [
    "0. Package Import and Data Loading\n",
    "1. Feature engineering\n",
    "2. Variable correlation\n",
    "3. Removing outliers\n",
    "4. Pickling"
   ]
  },
  {
   "cell_type": "markdown",
   "id": "33340683",
   "metadata": {},
   "source": [
    "## 0. Import packages\n",
    "Load the necessary packages for this exercise"
   ]
  },
  {
   "cell_type": "code",
   "execution_count": 2,
   "id": "a2fb68f7",
   "metadata": {},
   "outputs": [],
   "source": [
    "import datetime\n",
    "import matplotlib.pyplot as plt\n",
    "import numpy as np\n",
    "import os\n",
    "import pandas as pd\n",
    "import pickle\n",
    "import seaborn as sns"
   ]
  },
  {
   "cell_type": "code",
   "execution_count": 4,
   "id": "7d2d7133",
   "metadata": {},
   "outputs": [],
   "source": [
    "#show plots in jupyter notebook\n",
    "%matplotlib inline"
   ]
  },
  {
   "cell_type": "code",
   "execution_count": 5,
   "id": "f5f58cdb",
   "metadata": {},
   "outputs": [],
   "source": [
    "# Set plot style\n",
    "sns.set(color_codes=True)"
   ]
  },
  {
   "cell_type": "code",
   "execution_count": 6,
   "id": "d9e28b4e",
   "metadata": {},
   "outputs": [],
   "source": [
    "#Set maximum number of columns to be displayed\n",
    "pd.set_option('display.max_columns',100)"
   ]
  },
  {
   "cell_type": "markdown",
   "id": "521722a3",
   "metadata": {},
   "source": [
    "## Loading data\n",
    "### Data directory\n",
    "Explicitly show how paths are indicated"
   ]
  },
  {
   "cell_type": "code",
   "execution_count": 12,
   "id": "312e24b1",
   "metadata": {},
   "outputs": [],
   "source": [
    "PICKLE_TRAIN_DIR=os.path.join(\".\",\"processed_data\",\"train_data.pkl\")\n",
    "PICKLE_HISTORY_DIR=os.path.join(\".\",\"processed_data\",\"history_data.pkl\")"
   ]
  },
  {
   "cell_type": "code",
   "execution_count": 13,
   "id": "f60f9419",
   "metadata": {},
   "outputs": [],
   "source": [
    "history_data = pd.read_pickle(PICKLE_HISTORY_DIR) \n",
    "train = pd.read_pickle(PICKLE_TRAIN_DIR)"
   ]
  },
  {
   "cell_type": "markdown",
   "id": "6d3b8892",
   "metadata": {},
   "source": [
    "## 1. Feature Engineering\n",
    "Since we have the consumption data for each of the companies for the year 2015, we will create new features using the average of the year, the last six months, and the last three months to our model."
   ]
  },
  {
   "cell_type": "code",
   "execution_count": 30,
   "id": "da36277a",
   "metadata": {},
   "outputs": [
    {
     "data": {
      "text/plain": [
       "2015-08-01    16094\n",
       "2015-12-01    16094\n",
       "2015-07-01    16090\n",
       "2015-11-01    16087\n",
       "2015-06-01    16085\n",
       "2015-10-01    16085\n",
       "2015-02-01    16082\n",
       "2015-09-01    16082\n",
       "2015-05-01    16080\n",
       "2015-04-01    16079\n",
       "2015-03-01    16074\n",
       "2015-01-01    16070\n",
       "Name: price_date, dtype: int64"
      ]
     },
     "execution_count": 30,
     "metadata": {},
     "output_type": "execute_result"
    }
   ],
   "source": [
    "history_data['price_date'].value_counts()"
   ]
  },
  {
   "cell_type": "code",
   "execution_count": 22,
   "id": "900ed03c",
   "metadata": {},
   "outputs": [],
   "source": [
    "mean_year=history_data.groupby(['id']).mean().reset_index()"
   ]
  },
  {
   "cell_type": "code",
   "execution_count": 28,
   "id": "f11462aa",
   "metadata": {},
   "outputs": [],
   "source": [
    "mean_6m=history_data[history_data['price_date']>'2015-06-01'].groupby(['id']).mean().reset_index()"
   ]
  },
  {
   "cell_type": "code",
   "execution_count": 31,
   "id": "964773c4",
   "metadata": {},
   "outputs": [],
   "source": [
    "mean_3m=history_data[history_data['price_date']>'2015-10-01'].groupby(['id']).mean().reset_index()"
   ]
  },
  {
   "cell_type": "code",
   "execution_count": 32,
   "id": "ebcb3a86",
   "metadata": {},
   "outputs": [
    {
     "data": {
      "text/html": [
       "<div>\n",
       "<style scoped>\n",
       "    .dataframe tbody tr th:only-of-type {\n",
       "        vertical-align: middle;\n",
       "    }\n",
       "\n",
       "    .dataframe tbody tr th {\n",
       "        vertical-align: top;\n",
       "    }\n",
       "\n",
       "    .dataframe thead th {\n",
       "        text-align: right;\n",
       "    }\n",
       "</style>\n",
       "<table border=\"1\" class=\"dataframe\">\n",
       "  <thead>\n",
       "    <tr style=\"text-align: right;\">\n",
       "      <th></th>\n",
       "      <th>id</th>\n",
       "      <th>price_p1_var</th>\n",
       "      <th>price_p2_var</th>\n",
       "      <th>price_p3_var</th>\n",
       "      <th>price_p1_fix</th>\n",
       "      <th>price_p2_fix</th>\n",
       "      <th>price_p3_fix</th>\n",
       "    </tr>\n",
       "  </thead>\n",
       "  <tbody>\n",
       "    <tr>\n",
       "      <th>0</th>\n",
       "      <td>0002203ffbb812588b632b9e628cc38d</td>\n",
       "      <td>0.124338</td>\n",
       "      <td>0.103794</td>\n",
       "      <td>0.07316</td>\n",
       "      <td>40.701732</td>\n",
       "      <td>24.421038</td>\n",
       "      <td>16.280694</td>\n",
       "    </tr>\n",
       "    <tr>\n",
       "      <th>1</th>\n",
       "      <td>0004351ebdd665e6ee664792efc4fd13</td>\n",
       "      <td>0.146426</td>\n",
       "      <td>0.000000</td>\n",
       "      <td>0.00000</td>\n",
       "      <td>44.385450</td>\n",
       "      <td>0.000000</td>\n",
       "      <td>0.000000</td>\n",
       "    </tr>\n",
       "    <tr>\n",
       "      <th>2</th>\n",
       "      <td>0010bcc39e42b3c2131ed2ce55246e3c</td>\n",
       "      <td>0.181558</td>\n",
       "      <td>0.000000</td>\n",
       "      <td>0.00000</td>\n",
       "      <td>45.319710</td>\n",
       "      <td>0.000000</td>\n",
       "      <td>0.000000</td>\n",
       "    </tr>\n",
       "  </tbody>\n",
       "</table>\n",
       "</div>"
      ],
      "text/plain": [
       "                                 id  price_p1_var  price_p2_var  price_p3_var  \\\n",
       "0  0002203ffbb812588b632b9e628cc38d      0.124338      0.103794       0.07316   \n",
       "1  0004351ebdd665e6ee664792efc4fd13      0.146426      0.000000       0.00000   \n",
       "2  0010bcc39e42b3c2131ed2ce55246e3c      0.181558      0.000000       0.00000   \n",
       "\n",
       "   price_p1_fix  price_p2_fix  price_p3_fix  \n",
       "0     40.701732     24.421038     16.280694  \n",
       "1     44.385450      0.000000      0.000000  \n",
       "2     45.319710      0.000000      0.000000  "
      ]
     },
     "execution_count": 32,
     "metadata": {},
     "output_type": "execute_result"
    }
   ],
   "source": [
    "mean_year.head(3)"
   ]
  },
  {
   "cell_type": "code",
   "execution_count": 33,
   "id": "b32e7765",
   "metadata": {},
   "outputs": [],
   "source": [
    "###Combine them in a single dataframe\n",
    "mean_year = mean_year.rename(index=str, columns={\"price_p1_var\": \"mean_year_price_p1_var\", \"price_p2_var\": \"mean_year_price_p2_var\", \"price_p3_var\": \"mean_year_price_p3_var\", \"price_p1_fix\": \"mean_year_price_p1_fix\", \"price_p2_fix\": \"mean_year_price_p2_fix\",\n",
    "\"price_p3_fix\": \"mean_year_price_p3_fix\",}) \n",
    "mean_year[\"mean_year_price_p1\"] = mean_year[\"mean_year_price_p1_var\"] + mean_year[\"mean_year_price_p1_fix\"] \n",
    "mean_year[\"mean_year_price_p2\"] = mean_year[\"mean_year_price_p2_var\"] + mean_year[\"mean_year_price_p2_fix\"] \n",
    "mean_year[\"mean_year_price_p3\"] = mean_year[\"mean_year_price_p3_var\"] + mean_year[\"mean_year_price_p3_fix\"]"
   ]
  },
  {
   "cell_type": "code",
   "execution_count": 34,
   "id": "18780868",
   "metadata": {},
   "outputs": [],
   "source": [
    "mean_6m = mean_6m.rename(index=str, columns={\"price_p1_var\": \"mean_6m_price_p1_var\", \"price_p2_var\": \"mean_6m_price_p2_var\", \"price_p3_var\": \"mean_6m_price_p3_var\", \"price_p1_fix\": \"mean_6m_price_p1_fix\", \"price_p2_fix\": \"mean_6m_price_p2_fix\",\n",
    "\"price_p3_fix\": \"mean_6m_price_p3_fix\",}) \n",
    "mean_6m[\"mean_6m_price_p1\"] = mean_6m[\"mean_6m_price_p1_var\"] + mean_6m[\"mean_6m_price_p1_fix\"] \n",
    "mean_6m[\"mean_6m_price_p2\"] = mean_6m[\"mean_6m_price_p2_var\"] + mean_6m[\"mean_6m_price_p2_fix\"] \n",
    "mean_6m[\"mean_6m_price_p3\"] = mean_6m[\"mean_6m_price_p3_var\"] + mean_6m[\"mean_6m_price_p3_fix\"]"
   ]
  },
  {
   "cell_type": "code",
   "execution_count": 35,
   "id": "6305da60",
   "metadata": {},
   "outputs": [],
   "source": [
    "mean_3m = mean_3m.rename(index=str, columns={\"price_p1_var\": \"mean_3m_price_p1_var\", \"price_p2_var\": \"mean_3m_price_p2_var\", \"price_p3_var\": \"mean_3m_price_p3_var\", \"price_p1_fix\": \"mean_3m_price_p1_fix\", \"price_p2_fix\": \"mean_3m_price_p2_fix\",\n",
    "\"price_p3_fix\": \"mean_3m_price_p3_fix\",}) \n",
    "mean_3m[\"mean_3m_price_p1\"] = mean_3m[\"mean_3m_price_p1_var\"] + mean_3m[\"mean_3m_price_p1_fix\"] \n",
    "mean_3m[\"mean_3m_price_p2\"] = mean_3m[\"mean_3m_price_p2_var\"] + mean_3m[\"mean_3m_price_p2_fix\"] \n",
    "mean_3m[\"mean_3m_price_p3\"] = mean_3m[\"mean_3m_price_p3_var\"] + mean_3m[\"mean_3m_price_p3_fix\"]"
   ]
  },
  {
   "cell_type": "markdown",
   "id": "590ed057",
   "metadata": {},
   "source": [
    "Now we will merge them into a single dataframe\n",
    "Note: I am not confident the mean_6m and mean_3m could help the prediction model. We will see below the variables are also highly correlated to\n",
    "actually using only the mean_year is OK"
   ]
  },
  {
   "cell_type": "code",
   "execution_count": 37,
   "id": "e6f2c0fd",
   "metadata": {},
   "outputs": [],
   "source": [
    "#features = pd.merge(mean_year,mean_6m, on=\"id\").merge(mean_3m,on='id')\n",
    "features=mean_year"
   ]
  },
  {
   "cell_type": "markdown",
   "id": "5314d740",
   "metadata": {},
   "source": [
    "### 2. churn by dates variabls\n",
    "In the previous notebook we explored the data and made a deep dive into the churn by dates. Nonetheless, that exploration was quite shallow and did not provide us with any relevant insight.\n",
    "What if we could create a new variable that could provide us more relevant insights? We will define a variable tenure = date_end - date_activ"
   ]
  },
  {
   "cell_type": "code",
   "execution_count": 51,
   "id": "e17bb114",
   "metadata": {},
   "outputs": [],
   "source": [
    "train['tenure']=((train['date_end']-train['date_activ'])/ np.timedelta64(1, \"Y\")).astype(int)"
   ]
  },
  {
   "cell_type": "code",
   "execution_count": 58,
   "id": "5a458627",
   "metadata": {},
   "outputs": [],
   "source": [
    "tenure = train[[\"tenure\", \"churn\", \"id\"]].groupby([\"tenure\", \"churn\"])[\"id\"].count().unstack(level=1) \n",
    "tenure_percentage = (tenure.div(tenure.sum(axis=1), axis=0)*100)"
   ]
  },
  {
   "cell_type": "code",
   "execution_count": 59,
   "id": "41706186",
   "metadata": {},
   "outputs": [
    {
     "data": {
      "text/html": [
       "<div>\n",
       "<style scoped>\n",
       "    .dataframe tbody tr th:only-of-type {\n",
       "        vertical-align: middle;\n",
       "    }\n",
       "\n",
       "    .dataframe tbody tr th {\n",
       "        vertical-align: top;\n",
       "    }\n",
       "\n",
       "    .dataframe thead th {\n",
       "        text-align: right;\n",
       "    }\n",
       "</style>\n",
       "<table border=\"1\" class=\"dataframe\">\n",
       "  <thead>\n",
       "    <tr style=\"text-align: right;\">\n",
       "      <th>churn</th>\n",
       "      <th>0</th>\n",
       "      <th>1</th>\n",
       "    </tr>\n",
       "    <tr>\n",
       "      <th>tenure</th>\n",
       "      <th></th>\n",
       "      <th></th>\n",
       "    </tr>\n",
       "  </thead>\n",
       "  <tbody>\n",
       "    <tr>\n",
       "      <th>0</th>\n",
       "      <td>1.0</td>\n",
       "      <td>NaN</td>\n",
       "    </tr>\n",
       "    <tr>\n",
       "      <th>2</th>\n",
       "      <td>262.0</td>\n",
       "      <td>40.0</td>\n",
       "    </tr>\n",
       "    <tr>\n",
       "      <th>3</th>\n",
       "      <td>1178.0</td>\n",
       "      <td>193.0</td>\n",
       "    </tr>\n",
       "    <tr>\n",
       "      <th>4</th>\n",
       "      <td>3632.0</td>\n",
       "      <td>535.0</td>\n",
       "    </tr>\n",
       "    <tr>\n",
       "      <th>5</th>\n",
       "      <td>3010.0</td>\n",
       "      <td>297.0</td>\n",
       "    </tr>\n",
       "    <tr>\n",
       "      <th>6</th>\n",
       "      <td>3052.0</td>\n",
       "      <td>269.0</td>\n",
       "    </tr>\n",
       "    <tr>\n",
       "      <th>7</th>\n",
       "      <td>2649.0</td>\n",
       "      <td>210.0</td>\n",
       "    </tr>\n",
       "    <tr>\n",
       "      <th>8</th>\n",
       "      <td>162.0</td>\n",
       "      <td>11.0</td>\n",
       "    </tr>\n",
       "    <tr>\n",
       "      <th>9</th>\n",
       "      <td>94.0</td>\n",
       "      <td>2.0</td>\n",
       "    </tr>\n",
       "    <tr>\n",
       "      <th>10</th>\n",
       "      <td>64.0</td>\n",
       "      <td>2.0</td>\n",
       "    </tr>\n",
       "    <tr>\n",
       "      <th>11</th>\n",
       "      <td>208.0</td>\n",
       "      <td>18.0</td>\n",
       "    </tr>\n",
       "    <tr>\n",
       "      <th>12</th>\n",
       "      <td>144.0</td>\n",
       "      <td>14.0</td>\n",
       "    </tr>\n",
       "    <tr>\n",
       "      <th>13</th>\n",
       "      <td>43.0</td>\n",
       "      <td>4.0</td>\n",
       "    </tr>\n",
       "    <tr>\n",
       "      <th>15</th>\n",
       "      <td>1.0</td>\n",
       "      <td>NaN</td>\n",
       "    </tr>\n",
       "    <tr>\n",
       "      <th>16</th>\n",
       "      <td>1.0</td>\n",
       "      <td>NaN</td>\n",
       "    </tr>\n",
       "  </tbody>\n",
       "</table>\n",
       "</div>"
      ],
      "text/plain": [
       "churn        0      1\n",
       "tenure               \n",
       "0          1.0    NaN\n",
       "2        262.0   40.0\n",
       "3       1178.0  193.0\n",
       "4       3632.0  535.0\n",
       "5       3010.0  297.0\n",
       "6       3052.0  269.0\n",
       "7       2649.0  210.0\n",
       "8        162.0   11.0\n",
       "9         94.0    2.0\n",
       "10        64.0    2.0\n",
       "11       208.0   18.0\n",
       "12       144.0   14.0\n",
       "13        43.0    4.0\n",
       "15         1.0    NaN\n",
       "16         1.0    NaN"
      ]
     },
     "execution_count": 59,
     "metadata": {},
     "output_type": "execute_result"
    }
   ],
   "source": [
    "tenure"
   ]
  },
  {
   "cell_type": "code",
   "execution_count": 60,
   "id": "b513289c",
   "metadata": {},
   "outputs": [
    {
     "data": {
      "image/png": "[encoded data removed]",
      "text/plain": [
       "<Figure size 1296x720 with 1 Axes>"
      ]
     },
     "metadata": {},
     "output_type": "display_data"
    }
   ],
   "source": [
    "tenure.plot(kind='bar',figsize=(18,10),stacked=True,rot=0,title='Tenure')\n",
    "#Rename legend\n",
    "plt.legend(['Retention','Churn'],loc='upper right')\n",
    "#Labels\n",
    "_=plt.ylabel('No.of companies')\n",
    "_=plt.xlabel('No.of years')\n",
    "plt.show()"
   ]
  },
  {
   "cell_type": "markdown",
   "id": "4a3be040",
   "metadata": {},
   "source": [
    "We can clearly that churn is very low for companies which joined recently or that have made the contract a long time ago. With the higher number of churners within the 3-7 years of tenure."
   ]
  },
  {
   "cell_type": "markdown",
   "id": "f86a21c1",
   "metadata": {},
   "source": [
    "We will also transform the dates provided in such a way that we can make more sense out of those. \n",
    "months_activ : Number of months active until reference date (Jan 2016)\n",
    "\n",
    "months_to_end : Number of months of the contract left at reference date (Jan 2016)\n",
    "\n",
    "months_modif_prod : Number of months since last modification at reference date (Jan 2016)\n",
    "\n",
    "months_renewal : Number of months since last renewal at reference date (Jan 2016)"
   ]
  },
  {
   "cell_type": "markdown",
   "id": "4552cb35",
   "metadata": {},
   "source": [
    "To create the month column we will follow a simple process:\n",
    "   1. Substract the reference date and the column date\n",
    "   2. Convert the timedelta in months\n",
    "   3. Convert to integer (we are not interested in having decimal months)"
   ]
  },
  {
   "cell_type": "code",
   "execution_count": 66,
   "id": "0ecffc04",
   "metadata": {},
   "outputs": [],
   "source": [
    "def convert_months(reference_date,dataframe,column):\n",
    "    \"\"\"\n",
    "    Input a column with timedeltas and return months\n",
    "    \"\"\"\n",
    "    time_delta=reference_date-dataframe[column]\n",
    "    months=(time_delta/np.timedelta64(1,'M')).astype(int)\n",
    "    return months"
   ]
  },
  {
   "cell_type": "code",
   "execution_count": 63,
   "id": "b044b928",
   "metadata": {},
   "outputs": [],
   "source": [
    "REFERENCE_DATE=datetime.datetime(2016,1,1)"
   ]
  },
  {
   "cell_type": "code",
   "execution_count": 68,
   "id": "436fedaa",
   "metadata": {},
   "outputs": [],
   "source": [
    "train[\"months_activ\"] = convert_months(REFERENCE_DATE, train, \"date_activ\") \n",
    "train[\"months_to_end\"] = -convert_months(REFERENCE_DATE, train, \"date_end\") \n",
    "train[\"months_modif_prod\"] = convert_months(REFERENCE_DATE, train, \"date_modif_prod\") \n",
    "train[\"months_renewal\"] = convert_months(REFERENCE_DATE, train, \"date_renewal\")"
   ]
  },
  {
   "cell_type": "code",
   "execution_count": null,
   "id": "11f1ac28",
   "metadata": {},
   "outputs": [],
   "source": [
    "def plot_churn_by_month(dataframe,column,fontsize_=11):\n",
    "    \"\"\"\n",
    "    Plot churn distribution by monthly variable\n",
    "    \"\"\"\n",
    "    "
   ]
  },
  {
   "cell_type": "code",
   "execution_count": null,
   "id": "1c3ffb38",
   "metadata": {},
   "outputs": [],
   "source": []
  }
 ],
 "metadata": {
  "kernelspec": {
   "display_name": "Python 3.8.8 64-bit ('base': conda)",
   "language": "python",
   "name": "python388jvsc74a57bd0eb02d56a9c260f513444335bb55a391559ea4ee0a8c342c88c711e7bac680a69"
  },
  "language_info": {
   "codemirror_mode": {
    "name": "ipython",
    "version": 3
   },
   "file_extension": ".py",
   "mimetype": "text/x-python",
   "name": "python",
   "nbconvert_exporter": "python",
   "pygments_lexer": "ipython3",
   "version": "3.8.8"
  }
 },
 "nbformat": 4,
 "nbformat_minor": 5
}
